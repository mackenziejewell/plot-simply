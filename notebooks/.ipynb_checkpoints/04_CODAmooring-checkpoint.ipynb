{
 "cells": [
  {
   "cell_type": "markdown",
   "id": "27dfc66a",
   "metadata": {},
   "source": [
    "# 04_CODAmooring\n"
   ]
  },
  {
   "cell_type": "code",
   "execution_count": 1,
   "id": "0e5a6e7e",
   "metadata": {},
   "outputs": [],
   "source": [
    "%load_ext autoreload\n",
    "%autoreload 2\n",
    "\n",
    "import numpy.ma as ma\n",
    "import numpy as np\n",
    "import xarray as xr\n",
    "import pandas as pd\n",
    "\n",
    "from datetime import datetime, timedelta\n",
    "\n",
    "import cmocean\n",
    "import matplotlib\n",
    "import matplotlib.pyplot as plt\n",
    "import cartopy\n",
    "import cartopy.crs as ccrs\n",
    "import cartopy.feature as cfeature\n",
    "\n",
    "\n",
    "from matplotlib.dates import MonthLocator, DateFormatter, DayLocator\n",
    "from matplotlib.ticker import NullFormatter\n",
    "import matplotlib.dates as mdates\n",
    "\n",
    "import metpy\n",
    "from metpy.units import units\n",
    "\n",
    "import sys\n",
    "\n",
    "# path to own functions\n",
    "sys.path.append('../../')\n",
    "import data_UniBremen.SIC as UNISIC\n",
    "import data_UniBremen.MultiYearIce as UNIMYI\n",
    "\n",
    "import data_NSIDC.icedrift as PPdrift\n",
    "\n",
    "\n",
    "\n",
    "sys.path.append('../../Libraries_functions/')\n",
    "from LIB_plotting import (add_colorbar)"
   ]
  },
  {
   "cell_type": "code",
   "execution_count": 2,
   "id": "6a8c7bb3",
   "metadata": {},
   "outputs": [],
   "source": [
    "\n",
    "def running_mean(series, length = 3, center=False):\n",
    "    \n",
    "    # copy data\n",
    "    variable = np.copy(series)\n",
    "    running_sum = np.copy(variable)\n",
    "\n",
    "    # end values are nans\n",
    "    if center:\n",
    "        running_sum[:length] = np.nan\n",
    "        running_sum[-length:] = np.nan\n",
    "        for ii in range(length, len(running_sum)-length):\n",
    "            running_sum[ii] = np.sum(variable[ii-length:ii+length+1]) / len(variable[ii-length:ii+length+1])\n",
    "        \n",
    "    else:\n",
    "        running_sum[:length] = np.nan\n",
    "        for ii in range(length, len(running_sum)):\n",
    "            running_sum[ii] = np.sum(variable[ii-length:ii+1]) / len(variable[ii-length:ii+1])\n",
    "        \n",
    "        \n",
    "    return running_sum\n"
   ]
  },
  {
   "cell_type": "markdown",
   "id": "60163dc5",
   "metadata": {},
   "source": [
    "# Import CODA mooring data"
   ]
  },
  {
   "cell_type": "code",
   "execution_count": 3,
   "id": "a6238543",
   "metadata": {},
   "outputs": [
    {
     "name": "stdout",
     "output_type": "stream",
     "text": [
      "70.77422 -149.47707\n"
     ]
    }
   ],
   "source": [
    "ds = {}\n",
    "\n",
    "ds['2P1'] = xr.open_dataset('/Volumes/Seagate_Jewell/KenzieStuff/mooring_data/CODA_moorings/S2P1.nc')\n",
    "ds['2P1'].close()\n",
    "\n",
    "ds['2A1'] = xr.open_dataset('/Volumes/Seagate_Jewell/KenzieStuff/mooring_data/CODA_moorings/S2A1.nc')\n",
    "ds['2A1'].close()\n",
    "\n",
    "labels = {}\n",
    "labels['2P1'] = '2 inshore'\n",
    "labels['2A1'] = '2 offshore'\n",
    "\n",
    "#============\n",
    "site = '2A1'\n",
    "#============\n",
    "\n",
    "site_lat = ds[site].lat_lagrangian[0].values\n",
    "site_lon = ds[site].lon_lagrangian[0].values\n",
    "\n",
    "print(site_lat, site_lon)"
   ]
  },
  {
   "cell_type": "markdown",
   "id": "94b37034",
   "metadata": {},
   "source": [
    "# Import ERA5 data"
   ]
  },
  {
   "cell_type": "code",
   "execution_count": 4,
   "id": "e07fe8e6",
   "metadata": {},
   "outputs": [],
   "source": [
    "lat_local = slice(71.85, 70.35)\n",
    "lon_local = slice(-156.5, -149)\n",
    "\n",
    "# geostrophic wind components\n",
    "# DS2 = xr.open_dataset(f'/Volumes/Seagate_Jewell/KenzieStuff/ERA5/hourlyJFM_pressure/JFM_pressure_2020.nc')\n",
    "DS2 = xr.open_dataset(f'/Volumes/Seagate_Jewell/KenzieStuff/ERA5/hourlyJFM_pressure/pressure_20192020.nc')\n",
    "DS2.close()\n",
    "DS2\n",
    "crop_DS = DS2.sel(pressure_level = 1000).z\n",
    "crop_DS = crop_DS.rename({'valid_time': 'time'})"
   ]
  },
  {
   "cell_type": "code",
   "execution_count": 5,
   "id": "c046118d",
   "metadata": {},
   "outputs": [],
   "source": [
    "# DS3 = xr.open_dataset(f'/Volumes/Jewell_EasyStore/ECMWF/annual/hourly/ERA5_2020.nc')\n",
    "# DS3.close()\n",
    "# DS3.msl\n"
   ]
  },
  {
   "cell_type": "code",
   "execution_count": 6,
   "id": "06c7c409",
   "metadata": {},
   "outputs": [],
   "source": [
    "(Ug, Vg) = metpy.calc.geostrophic_wind(crop_DS)"
   ]
  },
  {
   "cell_type": "code",
   "execution_count": 7,
   "id": "896992bc",
   "metadata": {},
   "outputs": [],
   "source": [
    "\n",
    "# #========================================================\n",
    "time_range = [datetime(2020, 1, 1), datetime(2020, 4, 1)]\n",
    "# #========================================================\n",
    "\n",
    "\n",
    "#========================================================\n",
    "# time_range = [datetime(2019, 11, 13), datetime(2020, 6, 1)]\n",
    "#========================================================\n",
    "\n",
    "\n",
    "# #========================================================\n",
    "# time_range = [datetime(2020, 3, 12), datetime(2020, 3, 26)]\n",
    "# #========================================================\n",
    "\n",
    "\n",
    "# #========================================================\n",
    "# time_range = [datetime(2020, 2, 15), datetime(2020, 3, 5)]\n",
    "# #========================================================\n"
   ]
  },
  {
   "cell_type": "code",
   "execution_count": 8,
   "id": "e5cf5733",
   "metadata": {},
   "outputs": [],
   "source": [
    "ug_slice = Ug.sel(time = slice(*time_range), latitude=lat_local, longitude = lon_local)[:-1]\n",
    "vg_slice = Vg.sel(time = slice(*time_range), latitude=lat_local, longitude = lon_local)[:-1]\n",
    "# Z_slice = Z.sel(time = slice(*time_range), latitude=lat_local, longitude = lon_local)#[:-1]\n",
    "# MSL_slice = DS3.msl.sel(time = slice(*time_range), latitude=lat_local, longitude = lon_local)[#:-1]\n",
    "\n",
    "ug = ug_slice.mean(dim=['latitude', 'longitude'])#[:-1]\n",
    "vg = vg_slice.mean(dim=['latitude', 'longitude'])#[:-1]\n",
    "# z = Z_slice.mean(dim=['latitude', 'longitude'])\n",
    "# msl = MSL_slice.mean(dim=['latitude', 'longitude'])/100"
   ]
  },
  {
   "cell_type": "code",
   "execution_count": 9,
   "id": "fa310be4",
   "metadata": {},
   "outputs": [],
   "source": [
    "hourly_sealevel = (ds[site].sel(time=slice(*time_range)).depth.resample(time='1H').mean())\n",
    "hourly_times = hourly_sealevel.time"
   ]
  },
  {
   "cell_type": "code",
   "execution_count": null,
   "id": "b278027d",
   "metadata": {},
   "outputs": [],
   "source": []
  },
  {
   "cell_type": "code",
   "execution_count": 10,
   "id": "c4054cea",
   "metadata": {},
   "outputs": [],
   "source": [
    "    \n",
    "length = 12 # hours\n",
    "lvl_smooth = running_mean(hourly_sealevel, length = length, center=True)\n",
    "ug_smooth = running_mean(ug, length = length, center=True)\n",
    "vg_smooth = running_mean(vg, length = length, center=True)\n",
    "# z_smooth = running_mean(z, length = length, center=True)\n",
    "# msl_smooth = running_mean(msl, length = length, center=True)\n"
   ]
  },
  {
   "cell_type": "code",
   "execution_count": 11,
   "id": "949915c2",
   "metadata": {},
   "outputs": [
    {
     "data": {
      "text/plain": [
       "<matplotlib.lines.Line2D at 0x13f843050>"
      ]
     },
     "execution_count": 11,
     "metadata": {},
     "output_type": "execute_result"
    },
    {
     "data": {
      "image/png": "[encoded data removed]",
      "text/plain": [
       "<Figure size 1200x200 with 1 Axes>"
      ]
     },
     "metadata": {},
     "output_type": "display_data"
    }
   ],
   "source": [
    "fig, ax = plt.subplots(figsize=(12,2))\n",
    "plt.plot(hourly_sealevel-lvl_smooth)\n",
    "plt.axhline(-0.1)\n",
    "plt.axhline(0.1)"
   ]
  },
  {
   "cell_type": "code",
   "execution_count": 12,
   "id": "e2447a0c",
   "metadata": {},
   "outputs": [
    {
     "name": "stdout",
     "output_type": "stream",
     "text": [
      "max R @ lag 13 hours: R = 0.81596\n",
      "12-hour lag: R = 0.81556\n"
     ]
    },
    {
     "data": {
      "image/png": "[encoded data removed]",
      "text/plain": [
       "<Figure size 640x480 with 1 Axes>"
      ]
     },
     "metadata": {},
     "output_type": "display_data"
    }
   ],
   "source": [
    "from scipy import stats\n",
    "\n",
    "lags = np.arange(1, 50)\n",
    "Rs = np.array([])\n",
    "slopes = np.array([])\n",
    "intercepts = np.array([])\n",
    "\n",
    "for lag in lags:\n",
    "    \n",
    "    x = ug_smooth[:-lag]\n",
    "    y = lvl_smooth[lag:]\n",
    "\n",
    "    x_nn = x[np.isfinite(x)&np.isfinite(y)]\n",
    "    y_nn = y[np.isfinite(x)&np.isfinite(y)]\n",
    "\n",
    "    res = stats.linregress(x_nn, y_nn)\n",
    "    \n",
    "    Rs = np.append(Rs, res.rvalue)\n",
    "    slopes = np.append(slopes, res.slope)\n",
    "    intercepts = np.append(intercepts, res.intercept)\n",
    "\n",
    "plt.plot(lags, Rs,)\n",
    "print(f'max R @ lag {lags[np.argmax(Rs)]} hours: R = {np.max(Rs):.5f}')\n",
    "\n",
    "\n",
    "HOUR = 12\n",
    "R12hrlag = Rs[np.where(lags==HOUR)[0][0]]\n",
    "sl12hrlag = slopes[np.where(lags==HOUR)[0][0]]\n",
    "in12hrlag = intercepts[np.where(lags==HOUR)[0][0]]\n",
    "print(f'12-hour lag: R = {R12hrlag:.5f}')"
   ]
  },
  {
   "cell_type": "code",
   "execution_count": 21,
   "id": "62d84f2e",
   "metadata": {},
   "outputs": [],
   "source": [
    "flaw_color = [0.6,0.775,1]\n",
    "lfbo_color = [1,0.8,0.5]\n",
    "\n",
    "lfbo_color = [1, 0.725, 0.425]\n",
    "flaw_color = [0.575, 0.75, 1]\n",
    "\n",
    "plt.rcParams.update({'font.size': 12})"
   ]
  },
  {
   "cell_type": "code",
   "execution_count": 58,
   "id": "5fc06d49",
   "metadata": {},
   "outputs": [
    {
     "data": {
      "image/png": "[encoded data removed]",
      "text/plain": [
       "<Figure size 500x200 with 1 Axes>"
      ]
     },
     "metadata": {},
     "output_type": "display_data"
    }
   ],
   "source": [
    "\n",
    "fig, ax = plt.subplots(figsize=(5,2))\n",
    "\n",
    "\n",
    "ax.xaxis.set_minor_locator(mdates.DayLocator(interval=5))\n",
    "ax.xaxis.set_major_locator(mdates.MonthLocator(interval=1))\n",
    "ax.xaxis.set_major_formatter(mdates.DateFormatter('%b 1'))  \n",
    "ax.set_xlim(*time_range)\n",
    "\n",
    "\n",
    "ax.set_xlim(time_range)\n",
    "\n",
    "# plt.ylim(13.7,15.4)\n",
    "\n",
    "plt.ylim(20,21.5)\n",
    "\n",
    "color1 = 'lightskyblue'# [0.7,0.7,0.7]\n",
    "color = 'blue'\n",
    "ax.plot(hourly_times, hourly_sealevel, c=color1, lw=1)\n",
    "ax.plot(hourly_times, lvl_smooth, c=color)\n",
    "ax.set_ylabel('Sea level\\n(m)', rotation=0, labelpad=25, va='center', c=color)\n",
    "ax.set_yticks([20,20.5,21,21.5])\n",
    "ax.set_yticklabels([20,20.5,21,21.5], c=color)\n",
    "ax.set_xlabel('Date')\n",
    "\n",
    "# label inner shelf opening events\n",
    "#---------------------------------\n",
    "top1 = 21.6\n",
    "top2 = 21.7\n",
    "color = lfbo_color #[0.5, 0.5, 0.5]\n",
    "for date in events['lfbo_open']['date']: \n",
    "    ax.plot([date, date+timedelta(hours=24)], [top1,top1], c=color, lw=3, clip_on=False)\n",
    "    ax.fill_between([date, date+timedelta(hours=24)], *ax.get_ylim(),  color=color,  \n",
    "                    edgecolor='None', alpha=0.5, zorder=-1)\n",
    "ax.text( datetime(2020,1,16), top2, 'Inner shelf\\nopening', ha='center', weight='bold', color=color,  clip_on=False)\n",
    "ax.text( datetime(2020,3,19), top2, 'Inner shelf\\nopening', ha='center', weight='bold', color=color,  clip_on=False)\n",
    "        \n",
    "# for date in events['flaw_open']['date']: \n",
    "#     ax.plot([date, date+timedelta(hours=24)], [21.6,21.6], c=flaw_color, lw=3, clip_on=False)\n",
    "# ax.text(date, top2, 'OUTER', ha='center', weight='bold', color=flaw_color,  clip_on=False)\n",
    "      \n",
    "# label peaks\n",
    "#------------\n",
    "# ti = 1734\n",
    "# tf = 1753\n",
    "# color = 'k'\n",
    "# size = 60\n",
    "# ax.scatter(hourly_times[tf], hourly_sealevel[tf], s=size, c=color, marker='*', zorder=100)\n",
    "# # ax.text(hourly_times[tf], hourly_sealevel[tf], f'{hourly_sealevel[tf]:.1f} m  ', c=color, ha='right', va='center', zorder=100)\n",
    "# ta = 348\n",
    "# ax.scatter(hourly_times[ta], hourly_sealevel[ta], s=size, c=color, marker='*', zorder=100)\n",
    "# # ax.text(hourly_times[ta], hourly_sealevel[ta], f'  {hourly_sealevel[ta]:.1f} m', c=color, ha='left', va='center', zorder=100)\n",
    "# tb = 1928\n",
    "# ax.scatter(hourly_times[tb], hourly_sealevel[tb], s=size, c=color, marker='*', zorder=100)\n",
    "\n",
    "\n",
    "# ax2 = ax.twinx()\n",
    "\n",
    "# lag = HOUR\n",
    "# color = [0.1,0.1,0.1]\n",
    "# # ax2.plot(ug.time[lag:], ug_smooth[:-lag], c=color)\n",
    "# ax2.plot(ug.time, ug_smooth, c=color)\n",
    "\n",
    "# ymax = (ax.get_ylim()[1]-in12hrlag)/sl12hrlag\n",
    "# ymin = (ax.get_ylim()[0]-in12hrlag)/sl12hrlag\n",
    "# ax2.set_ylim(ymin,ymax)\n",
    "# ax2.set_yticks([-20,0,20,40])\n",
    "# ax2.set_yticklabels(ax2.get_yticks(), c=color)\n",
    "# ax2.set_ylabel('\\nZonal\\nwind\\n($\\mathrm{m\\;s^{-1}}$)', rotation=0, labelpad=25, va='center', c=color)\n",
    "# ax.text(0.315, 0.7, f'R={R12hrlag:.3f}\\n(12-hour lag)',c=color, transform=ax.transAxes)\n",
    "# # ax.text(0.315, 0.65, f'(lag 12 hrs)', transform=ax.transAxes)\n",
    "\n",
    "\n",
    "fig.savefig('./figures/CODAmooringdata_v5.png', dpi=500, bbox_inches='tight', pad_inches=0)\n"
   ]
  },
  {
   "cell_type": "code",
   "execution_count": 264,
   "id": "96b628f2",
   "metadata": {},
   "outputs": [
    {
     "data": {
      "text/plain": [
       "0.7074"
      ]
     },
     "execution_count": 264,
     "metadata": {},
     "output_type": "execute_result"
    }
   ],
   "source": [
    "0.01965 * 36"
   ]
  },
  {
   "cell_type": "code",
   "execution_count": 263,
   "id": "be64f424",
   "metadata": {},
   "outputs": [
    {
     "data": {
      "text/plain": [
       "0.7416"
      ]
     },
     "execution_count": 263,
     "metadata": {},
     "output_type": "execute_result"
    }
   ],
   "source": [
    "0.0206 * 36"
   ]
  },
  {
   "cell_type": "code",
   "execution_count": 260,
   "id": "44a1b5a0",
   "metadata": {},
   "outputs": [
    {
     "data": {
      "text/plain": [
       "0.020638132098955157"
      ]
     },
     "execution_count": 260,
     "metadata": {},
     "output_type": "execute_result"
    }
   ],
   "source": [
    "sl12hrlag"
   ]
  },
  {
   "cell_type": "code",
   "execution_count": 261,
   "id": "04f2beaa",
   "metadata": {},
   "outputs": [
    {
     "data": {
      "text/plain": [
       "14.37089937710793"
      ]
     },
     "execution_count": 261,
     "metadata": {},
     "output_type": "execute_result"
    }
   ],
   "source": [
    "in12hrlag"
   ]
  },
  {
   "cell_type": "code",
   "execution_count": 249,
   "id": "52f69ae4",
   "metadata": {},
   "outputs": [
    {
     "data": {
      "text/plain": [
       "0.01965769473911623"
      ]
     },
     "execution_count": 249,
     "metadata": {},
     "output_type": "execute_result"
    }
   ],
   "source": [
    "sl12hrlag"
   ]
  },
  {
   "cell_type": "code",
   "execution_count": 248,
   "id": "ac31506f",
   "metadata": {},
   "outputs": [
    {
     "data": {
      "text/plain": [
       "20.56214083317229"
      ]
     },
     "execution_count": 248,
     "metadata": {},
     "output_type": "execute_result"
    }
   ],
   "source": [
    "in12hrlag"
   ]
  },
  {
   "cell_type": "code",
   "execution_count": null,
   "id": "2d08c58d",
   "metadata": {},
   "outputs": [],
   "source": [
    "ax.plot(np.array([pd.to_datetime(hourly_times[ti]), pd.to_datetime(hourly_times[tf])]), \n",
    "     73         np.array([hourly_sealevel[ti], hourly_sealev"
   ]
  },
  {
   "cell_type": "code",
   "execution_count": 33,
   "id": "552015dd",
   "metadata": {},
   "outputs": [
    {
     "data": {
      "text/plain": [
       "36.03959479695753"
      ]
     },
     "execution_count": 33,
     "metadata": {},
     "output_type": "execute_result"
    }
   ],
   "source": [
    "np.nanmax(ug_smooth) - np.nanmin(ug_smooth)"
   ]
  },
  {
   "cell_type": "code",
   "execution_count": 27,
   "id": "85054f97",
   "metadata": {
    "scrolled": true
   },
   "outputs": [
    {
     "data": {
      "text/plain": [
       "LinregressResult(slope=0.010980716219976972, intercept=20.585733007027194, rvalue=0.470294604573937, pvalue=1.6214896568785297e-114, stderr=0.0004528922395402943, intercept_stderr=0.0029298632118348387)"
      ]
     },
     "execution_count": 27,
     "metadata": {},
     "output_type": "execute_result"
    }
   ],
   "source": [
    "res"
   ]
  },
  {
   "cell_type": "code",
   "execution_count": null,
   "id": "2266b705",
   "metadata": {},
   "outputs": [],
   "source": []
  },
  {
   "cell_type": "code",
   "execution_count": 34,
   "id": "6eceaaf1",
   "metadata": {},
   "outputs": [
    {
     "data": {
      "text/plain": [
       "0.7076770106081842"
      ]
     },
     "execution_count": 34,
     "metadata": {},
     "output_type": "execute_result"
    }
   ],
   "source": [
    "sl12hrlag * 36"
   ]
  },
  {
   "cell_type": "code",
   "execution_count": 186,
   "id": "f9213dc6",
   "metadata": {},
   "outputs": [
    {
     "name": "stdout",
     "output_type": "stream",
     "text": [
      "-19\n",
      "lats: 70.73124999999999 -- 70.81458333333333\n",
      "lons: -149.51875 -- -149.43541666666667\n",
      "-19.26984126984127\n"
     ]
    }
   ],
   "source": [
    "ds2 = xr.open_dataset('/Volumes/Seagate_Jewell/KenzieStuff/GEBCO/GEBCO_2024/gebco_2024_n90.0_s55.0_w-180.0_e180.0.nc')\n",
    "ds2.close()\n",
    "\n",
    "dscrop = ds2.sel(lat=slice(70.25,71), lon=slice(-150,-149))\n",
    "dscrop\n",
    "\n",
    "\n",
    "lat_ind = np.argmin(abs(dscrop.lat.values - site_lat))\n",
    "lon_ind = np.argmin(abs(dscrop.lon.values - site_lon))\n",
    "\n",
    "nearest_depth = dscrop.elevation[lat_ind,lon_ind].values\n",
    "print(nearest_depth)\n",
    "\n",
    "buffer = 10\n",
    "lats_range = dscrop.lat.values[lat_ind-buffer:lat_ind+buffer+1]\n",
    "print(f'lats: {np.min(lats_range)} -- {np.max(lats_range)}')\n",
    "lons_range = dscrop.lon.values[lon_ind-buffer:lon_ind+buffer+1]\n",
    "print(f'lons: {np.min(lons_range)} -- {np.max(lons_range)}')\n",
    "range_depth = np.nanmean(dscrop.elevation[lat_ind-buffer:lat_ind+buffer+1,lon_ind-buffer:lon_ind+buffer+1].values)\n",
    "print(range_depth)\n",
    "\n",
    "\n",
    "# sp = 5\n",
    "# elongrid, elatgrid = np.meshgrid(dscrop.lon[::sp], dscrop.lat[::sp])\n",
    "# elevations = dscrop.elevation.values[::sp, ::sp]"
   ]
  },
  {
   "cell_type": "code",
   "execution_count": 124,
   "id": "eff8fc3f",
   "metadata": {},
   "outputs": [],
   "source": []
  },
  {
   "cell_type": "code",
   "execution_count": 5,
   "id": "c3595cbd",
   "metadata": {},
   "outputs": [],
   "source": [
    "\n"
   ]
  },
  {
   "cell_type": "code",
   "execution_count": 6,
   "id": "35e17dc3",
   "metadata": {},
   "outputs": [],
   "source": []
  },
  {
   "cell_type": "code",
   "execution_count": 9,
   "id": "ed2281cc",
   "metadata": {},
   "outputs": [],
   "source": [
    "\n"
   ]
  },
  {
   "cell_type": "code",
   "execution_count": null,
   "id": "0fc78c3c",
   "metadata": {},
   "outputs": [],
   "source": []
  },
  {
   "cell_type": "markdown",
   "id": "886be140",
   "metadata": {},
   "source": [
    "# import events data"
   ]
  },
  {
   "cell_type": "code",
   "execution_count": 15,
   "id": "d1f16b86",
   "metadata": {},
   "outputs": [
    {
     "name": "stdout",
     "output_type": "stream",
     "text": [
      "1895 clim_dates\n"
     ]
    }
   ],
   "source": [
    "months = [1,2,3]\n",
    "years = np.append(np.arange(2003,2012),np.arange(2013,2025))\n",
    "\n",
    "events = {}\n",
    "\n",
    "events['lfbo_open'] = {}\n",
    "events['lfbo_distinct'] = {}\n",
    "events['lfbo'] = {}\n",
    "events['flaw_open'] = {}\n",
    "events['flaw_distinct'] = {}\n",
    "events['flaw'] = {}\n",
    "events['clim'] = {}\n",
    "\n",
    "version = 'v11'\n",
    "events['lfbo']['date'] = pd.to_datetime(pd.read_csv(f'../data/lfbo_new_{version}.csv').dates.values)\n",
    "events['lfbo']['area'] = pd.read_csv(f'../data/lfbo_new_{version}.csv').area.values\n",
    "\n",
    "events['lfbo_open']['date'] = pd.to_datetime(pd.read_csv(f'../data/lfbo_open_{version}.csv').dates.values)\n",
    "events['lfbo_open']['area'] = pd.read_csv(f'../data/lfbo_open_{version}.csv').area.values\n",
    "\n",
    "events['lfbo_distinct']['date'] = pd.to_datetime(pd.read_csv(f'../data/lfbo_distinct_{version}.csv').dates.values)\n",
    "events['lfbo_distinct']['area'] = pd.read_csv(f'../data/lfbo_distinct_{version}.csv').area.values\n",
    "\n",
    "events['flaw']['date'] = pd.to_datetime(pd.read_csv(f'../data/flaw_new_{version}.csv').dates.values)\n",
    "events['flaw']['area'] = pd.read_csv(f'../data/flaw_new_{version}.csv').area.values\n",
    "\n",
    "events['flaw_open']['date'] = pd.to_datetime(pd.read_csv(f'../data/flaw_open_{version}.csv').dates.values)\n",
    "events['flaw_open']['area'] = pd.read_csv(f'../data/flaw_open_{version}.csv').area.values\n",
    "\n",
    "events['flaw_distinct']['date'] = pd.to_datetime(pd.read_csv(f'../data/flaw_distinct_{version}.csv').dates.values)\n",
    "events['flaw_distinct']['area'] = pd.read_csv(f'../data/flaw_distinct_{version}.csv').area.values\n",
    "\n",
    "# record across other dates to so as not to cut off events occurring \n",
    "# at time domain bounds\n",
    "record_all = {}\n",
    "record_all['lfbo'] = np.copy(events['lfbo']['date'])\n",
    "record_all['flaw'] = np.copy(events['flaw']['date'])\n",
    "record_all['lfbo_open'] = np.copy(events['lfbo_open']['date'])\n",
    "record_all['flaw_open'] = np.copy(events['flaw_open']['date'])\n",
    "\n",
    "\n",
    "\n",
    "for cat in ['lfbo_open', 'lfbo', 'flaw', 'flaw_open', 'flaw_distinct', 'lfbo_distinct']:\n",
    "    events[cat]['area'] = events[cat]['area'][(events[cat]['date'].month<4)&(events[cat]['date'].year==2020)]\n",
    "    events[cat]['date'] = events[cat]['date'][(events[cat]['date'].month<4)&(events[cat]['date'].year==2020)]\n",
    "\n",
    "# save clime dates\n",
    "clim_dates = np.array([], dtype='datetime64[ns]')\n",
    "for year in years:\n",
    "    clim_dates = np.append(clim_dates, pd.date_range(datetime(year, 1, 1), datetime(year, 3, 31)))\n",
    "clim_dates = pd.to_datetime(clim_dates)\n",
    "print(f'{len(clim_dates)} clim_dates')\n",
    "    \n",
    "events['clim']['date'] = clim_dates\n"
   ]
  },
  {
   "cell_type": "code",
   "execution_count": 271,
   "id": "81ff7dda",
   "metadata": {},
   "outputs": [
    {
     "data": {
      "text/plain": [
       "DatetimeIndex(['2020-01-14', '2020-01-15', '2020-01-16', '2020-01-17',\n",
       "               '2020-01-18', '2020-03-13', '2020-03-14', '2020-03-15',\n",
       "               '2020-03-16', '2020-03-17', '2020-03-18', '2020-03-19',\n",
       "               '2020-03-20', '2020-03-21', '2020-03-22', '2020-03-25'],\n",
       "              dtype='datetime64[ns]', freq=None)"
      ]
     },
     "execution_count": 271,
     "metadata": {},
     "output_type": "execute_result"
    }
   ],
   "source": [
    "events['lfbo_open']['date']"
   ]
  },
  {
   "cell_type": "code",
   "execution_count": null,
   "id": "e2582bed",
   "metadata": {},
   "outputs": [],
   "source": []
  }
 ],
 "metadata": {
  "kernelspec": {
   "display_name": "BeaufortShelfBreakout",
   "language": "python",
   "name": "beaufortshelfbreakout"
  },
  "language_info": {
   "codemirror_mode": {
    "name": "ipython",
    "version": 3
   },
   "file_extension": ".py",
   "mimetype": "text/x-python",
   "name": "python",
   "nbconvert_exporter": "python",
   "pygments_lexer": "ipython3",
   "version": "3.12.2"
  }
 },
 "nbformat": 4,
 "nbformat_minor": 5
}
