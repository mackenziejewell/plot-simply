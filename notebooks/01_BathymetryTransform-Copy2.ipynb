{
 "cells": [
  {
   "cell_type": "markdown",
   "id": "099a13f4",
   "metadata": {},
   "source": [
    "# 01_BathymetryTransform\n",
    "\n",
    "Regrid GEBCO Arctic Ocean Bathmetry to UniB sea ice concentration grid"
   ]
  },
  {
   "cell_type": "markdown",
   "id": "dbf96555",
   "metadata": {},
   "source": [
    "## Import packages"
   ]
  },
  {
   "cell_type": "code",
   "execution_count": 1,
   "id": "a51be54e",
   "metadata": {},
   "outputs": [],
   "source": [
    "import numpy as np\n",
    "import xarray as xr\n",
    "\n",
    "from datetime import datetime, timedelta\n",
    "\n",
    "import matplotlib.pyplot as plt\n",
    "import cartopy\n",
    "import cartopy.crs as ccrs\n",
    "\n",
    "import sys\n",
    "\n",
    "# path to own functions\n",
    "sys.path.append('../../')\n",
    "import data_UniBremen.SIC as UNISIC"
   ]
  },
  {
   "cell_type": "markdown",
   "id": "459328aa",
   "metadata": {},
   "source": [
    "## Choose tagret grid to convert data"
   ]
  },
  {
   "cell_type": "code",
   "execution_count": 5,
   "id": "81366fe2",
   "metadata": {},
   "outputs": [
    {
     "name": "stdout",
     "output_type": "stream",
     "text": [
      "dict_keys(['proj', 'ds', 'x', 'y', 'xx', 'yy', 'sic', 'area'])\n"
     ]
    }
   ],
   "source": [
    "# ASI SIC 6.25 km grid\n",
    "#---------------------\n",
    "# SIC\n",
    "data = {}\n",
    "data['6250'] = UNISIC.open_remote_file(datetime(2021, 3, 24, 0, 0), \n",
    "                                      res = '6250', hem = 'n', method = 'urllib',\n",
    "                                      area = True, include_units=False)\n",
    "\n",
    "print(data['6250'].keys())"
   ]
  },
  {
   "cell_type": "code",
   "execution_count": 6,
   "id": "fa322179",
   "metadata": {},
   "outputs": [],
   "source": [
    "# ds = xr.Dataset({ \"x\": test_x,\n",
    "#                  \"y\": test_y,\n",
    "#                  \"elev\": test_elev})\n",
    "\n",
    "# ds.to_netcdf(path='/Users/mackenziejewell/Desktop/ref_points.nc')\n",
    "\n"
   ]
  },
  {
   "cell_type": "markdown",
   "id": "b51157b1",
   "metadata": {},
   "source": [
    "# convert ASI points to lat,lon so as not to run calcs below 55 degrees"
   ]
  },
  {
   "cell_type": "code",
   "execution_count": 7,
   "id": "a3907502",
   "metadata": {},
   "outputs": [],
   "source": [
    "TRANS_coords = ccrs.PlateCarree().transform_points(data['6250']['proj'], data['6250']['xx'], data['6250']['yy'])\n",
    "trans_lon = TRANS_coords[:,:,0]\n",
    "trans_lat = TRANS_coords[:,:,1]"
   ]
  },
  {
   "cell_type": "markdown",
   "id": "c8d7bfb6",
   "metadata": {},
   "source": [
    "## Open test points"
   ]
  },
  {
   "cell_type": "code",
   "execution_count": 8,
   "id": "d4043b79",
   "metadata": {},
   "outputs": [],
   "source": [
    "\n",
    "ds = xr.open_dataset('/Users/mackenziejewell/Desktop/ref_points.nc')\n",
    "\n",
    "test_x = ds.x.values\n",
    "test_y = ds.y.values\n",
    "test_elev = ds.elev.values"
   ]
  },
  {
   "cell_type": "code",
   "execution_count": 12,
   "id": "6352167c",
   "metadata": {},
   "outputs": [],
   "source": [
    "dx = np.diff(data['6250']['xx'], axis=1)[0][0]\n",
    "dy = np.diff(data['6250']['yy'], axis=0)[0][0]\n",
    "\n",
    "mean_elev = np.zeros(data['6250']['xx'].shape)\n",
    "elev_5th = np.zeros(data['6250']['xx'].shape)\n",
    "elev_25th = np.zeros(data['6250']['xx'].shape)\n",
    "elev_50th = np.zeros(data['6250']['xx'].shape)\n",
    "elev_75th = np.zeros(data['6250']['xx'].shape)\n",
    "elev_95th = np.zeros(data['6250']['xx'].shape)\n",
    "above_sealvl = np.zeros(data['6250']['xx'].shape)"
   ]
  },
  {
   "cell_type": "code",
   "execution_count": 13,
   "id": "a32880ea",
   "metadata": {},
   "outputs": [
    {
     "data": {
      "text/plain": [
       "(1792, 1216)"
      ]
     },
     "execution_count": 13,
     "metadata": {},
     "output_type": "execute_result"
    }
   ],
   "source": [
    "data['6250']['xx'].shape"
   ]
  },
  {
   "cell_type": "code",
   "execution_count": null,
   "id": "dc29693f",
   "metadata": {},
   "outputs": [
    {
     "name": "stdout",
     "output_type": "stream",
     "text": [
      "1020 0\n",
      "1020 500\n",
      "1050 0\n",
      "1050 500\n",
      "1080 0\n",
      "1080 500\n",
      "1110 0\n",
      "1110 500\n",
      "1140 0\n",
      "1140 500\n",
      "1170 0\n",
      "1170 500\n",
      "1200 0\n",
      "1200 500\n"
     ]
    }
   ],
   "source": [
    "starttime = datetime.now()\n",
    "\n",
    "# for ii in range(690, np.shape(mean_elev)[0]):\n",
    "#     for jj in range(np.shape(mean_elev)[1]):\n",
    "\n",
    "for ii in range(1000, 1250):\n",
    "    for jj in range(0,600):\n",
    "        \n",
    "        if ii % 30 == 0:\n",
    "            if jj % 500 == 0:\n",
    "                print(ii, jj)\n",
    "                \n",
    "        if trans_lat[ii,jj] < 54:\n",
    "            \n",
    "            mean_elev[ii, jj] = np.nan\n",
    "            elev_5th[ii, jj] = np.nan\n",
    "            elev_25th[ii, jj] = np.nan\n",
    "            elev_50th[ii, jj] = np.nan\n",
    "            elev_75th[ii, jj] = np.nan\n",
    "            elev_95th[ii, jj] = np.nan\n",
    "            above_sealvl[ii, jj] = np.nan\n",
    "        \n",
    "        \n",
    "        else:\n",
    "            \n",
    "            # current coordinates\n",
    "            xc = data['6250']['xx'][ii,jj]\n",
    "            yc = data['6250']['yy'][ii,jj]\n",
    "\n",
    "            # ranges within each box\n",
    "            xcond = (test_x >= xc - dx/2) & (test_x < xc + dx/2)\n",
    "            ycond = (test_y >= yc - dy/2) & (test_y < yc + dy/2)\n",
    "\n",
    "            if len(test_elev[(xcond) & (ycond)]) != 0:\n",
    "\n",
    "                # calc values\n",
    "                mean_elev[ii, jj] = np.nanmean(test_elev[(xcond) & (ycond)])\n",
    "                elev_5th[ii, jj] = np.nanpercentile(test_elev[(xcond) & (ycond)], 5)\n",
    "                elev_25th[ii, jj] = np.nanpercentile(test_elev[(xcond) & (ycond)], 25)\n",
    "                elev_50th[ii, jj] = np.nanpercentile(test_elev[(xcond) & (ycond)], 50)\n",
    "                elev_75th[ii, jj] = np.nanpercentile(test_elev[(xcond) & (ycond)], 75)\n",
    "                elev_95th[ii, jj] = np.nanpercentile(test_elev[(xcond) & (ycond)], 95)\n",
    "                above_sealvl[ii, jj] = np.sum(test_elev[(xcond) & (ycond)]>0) / len(test_elev[(xcond) & (ycond)])\n",
    "\n",
    "\n",
    "            else:\n",
    "\n",
    "                mean_elev[ii, jj] = np.nan\n",
    "                elev_5th[ii, jj] = np.nan\n",
    "                elev_25th[ii, jj] = np.nan\n",
    "                elev_50th[ii, jj] = np.nan\n",
    "                elev_75th[ii, jj] = np.nan\n",
    "                elev_95th[ii, jj] = np.nan\n",
    "                above_sealvl[ii, jj] = np.nan\n",
    "\n",
    "            \n",
    "print(f'runtime >>> {datetime.now() - starttime}')\n",
    "            "
   ]
  },
  {
   "cell_type": "code",
   "execution_count": null,
   "id": "a18ad594",
   "metadata": {},
   "outputs": [],
   "source": [
    "# expecting it to take 72 hours from Nov 8 @ 9 am"
   ]
  },
  {
   "cell_type": "code",
   "execution_count": 4,
   "id": "e815e76b",
   "metadata": {},
   "outputs": [
    {
     "data": {
      "text/plain": [
       "240.0"
      ]
     },
     "execution_count": 4,
     "metadata": {},
     "output_type": "execute_result"
    }
   ],
   "source": [
    "(100 / 30)*72"
   ]
  },
  {
   "cell_type": "code",
   "execution_count": 150,
   "id": "92747528",
   "metadata": {},
   "outputs": [
    {
     "data": {
      "text/plain": [
       "(1792, 1216)"
      ]
     },
     "execution_count": 150,
     "metadata": {},
     "output_type": "execute_result"
    }
   ],
   "source": [
    "mean_elev.shape"
   ]
  },
  {
   "cell_type": "code",
   "execution_count": 151,
   "id": "ad611464",
   "metadata": {},
   "outputs": [
    {
     "data": {
      "text/plain": [
       "0.1812744140625"
      ]
     },
     "execution_count": 151,
     "metadata": {},
     "output_type": "execute_result"
    }
   ],
   "source": [
    "(ii*jj)/(1792*1216)"
   ]
  },
  {
   "cell_type": "code",
   "execution_count": 160,
   "id": "23653020",
   "metadata": {},
   "outputs": [
    {
     "name": "stdout",
     "output_type": "stream",
     "text": [
      "693 570\n"
     ]
    }
   ],
   "source": [
    "print(ii, jj)"
   ]
  },
  {
   "cell_type": "code",
   "execution_count": null,
   "id": "77f3e592",
   "metadata": {},
   "outputs": [],
   "source": [
    "\n",
    "# # construct ds\n",
    "\n",
    "# # variables\n",
    "# data_vars = {}\n",
    "\n",
    "# data_vars['avg']= (('yy', 'xx'), mean_elev, {'long_name':'mean', 'units':'m'})\n",
    "# data_vars['5th']= (('yy', 'xx'), elev_5th, {'long_name':'mean', 'units':'m'})\n",
    "# data_vars['25th']= (('yy', 'xx'), elev_25th, {'long_name':'mean', 'units':'m'})\n",
    "# data_vars['50th']= (('yy', 'xx'), elev_50th, {'long_name':'mean', 'units':'m'})\n",
    "# data_vars['75th']= (('yy', 'xx'), elev_75th, {'long_name':'mean', 'units':'m'})\n",
    "# data_vars['95th']= (('yy', 'xx'), elev_95th, {'long_name':'mean', 'units':'m'})\n",
    "# data_vars['N_abv_slvl']= (('yy', 'xx'), above_sealvl, {'long_name':'# above sea level', 'units':'#'})\n",
    "\n",
    "# # coordinates\n",
    "# coords = {'yy': data['6250']['yy'][:,0], 'xx': data['6250']['xx'][0,:]}\n",
    "\n",
    "# # attributes\n",
    "# attrs = {}\n",
    "# attrs['descript'] = 'UniBremen 6.25 km data, with estimated bathymetry from GEBCO'\n",
    "# attrs['ii'] = '1000:1250'\n",
    "# attrs['jj'] = '0:600'\n",
    "\n",
    "# # Create the dataset\n",
    "# ds = xr.Dataset(\n",
    "#     data_vars = data_vars,\n",
    "#     coords = coords,\n",
    "#     attrs = attrs,    \n",
    "# )\n",
    "\n",
    "# ds.to_netcdf(path=f\"/Users/mackenziejewell/Desktop/elevation_files/Elevation_V5.nc\")\n",
    "\n"
   ]
  },
  {
   "cell_type": "code",
   "execution_count": 164,
   "id": "88b34c5d",
   "metadata": {},
   "outputs": [
    {
     "data": {
      "text/plain": [
       "<matplotlib.collections.QuadMesh at 0x13c972390>"
      ]
     },
     "execution_count": 164,
     "metadata": {},
     "output_type": "execute_result"
    },
    {
     "data": {
      "image/png": "[encoded data removed]",
      "text/plain": [
       "<Figure size 640x480 with 2 Axes>"
      ]
     },
     "metadata": {},
     "output_type": "display_data"
    }
   ],
   "source": [
    "(ds['N_abv_slvl']).plot()"
   ]
  },
  {
   "cell_type": "code",
   "execution_count": null,
   "id": "74bae031",
   "metadata": {},
   "outputs": [],
   "source": []
  }
 ],
 "metadata": {
  "kernelspec": {
   "display_name": "BeaufortShelfBreakout",
   "language": "python",
   "name": "beaufortshelfbreakout"
  },
  "language_info": {
   "codemirror_mode": {
    "name": "ipython",
    "version": 3
   },
   "file_extension": ".py",
   "mimetype": "text/x-python",
   "name": "python",
   "nbconvert_exporter": "python",
   "pygments_lexer": "ipython3",
   "version": "3.12.2"
  }
 },
 "nbformat": 4,
 "nbformat_minor": 5
}
